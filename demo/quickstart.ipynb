{
 "cells": [
  {
   "cell_type": "markdown",
   "metadata": {},
   "source": [
    "# Collector Python API quick start"
   ]
  },
  {
   "cell_type": "code",
   "execution_count": 14,
   "metadata": {},
   "outputs": [],
   "source": [
    "# internal modules\n",
    "import pycollector\n",
    "from pycollector.project import Project\n",
    "from pycollector.backend import API"
   ]
  },
  {
   "cell_type": "markdown",
   "metadata": {},
   "source": [
    "## Login to Collector Pyhton API"
   ]
  },
  {
   "cell_type": "code",
   "execution_count": 15,
   "metadata": {},
   "outputs": [],
   "source": [
    "# Login with your Collector User Name and Password \n",
    "username = # <Your Collector User Name(email)> \n",
    "password = # <Your Collector Password>\n",
    "api = API(username=username, password=password)"
   ]
  },
  {
   "cell_type": "markdown",
   "metadata": {},
   "source": [
    "## Create new collection"
   ]
  },
  {
   "cell_type": "markdown",
   "metadata": {},
   "source": [
    "Use the fucntion `api.new_collection()` to add a new collection. \n",
    "\n",
    "Your newly created collection will also show in the Collector App"
   ]
  },
  {
   "cell_type": "code",
   "execution_count": 20,
   "metadata": {},
   "outputs": [
    {
     "data": {
      "text/plain": [
       "'Collection Thank you added successfully'"
      ]
     },
     "execution_count": 20,
     "metadata": {},
     "output_type": "execute_result"
    }
   ],
   "source": [
    "# Adding collection by defining the attributes\n",
    "# Sample input for adding a new collection\n",
    "collection_name = \"Thank you\"\n",
    "project_name = \"ARSL_American Sign Language - Purchasing\"\n",
    "actor = (\"Person\",)\n",
    "collection_description = 'ASL for asking some if the person needs help. \\n\\n The sign for \"help\" is made by forming a loose-thumb-A hand (or even an \"S\" hand) and lifting it with your other hand. Some people will tell you the \"A\" hand should be your right hand. Others will tell you it should be your left hand. The reality of the matter is if you look this sign up in a half-dozen different sources you are going to see it done several different ways. \\n\\n  HELP: You / Need Help / '\n",
    "activities = \"thank you,very much\"\n",
    "activity_short_names = \"Thank you,Very much\"\n",
    "objects = \"Hands\"\n",
    "\n",
    "# Adding new colleciton with defined attributes\n",
    "api.new_collection(\n",
    "    name=collection_name,\n",
    "    project_name=project_name,\n",
    "    collection_description=collection_description,\n",
    "    activities=activities,\n",
    "    activity_short_names=activity_short_names,\n",
    "    objects=objects,\n",
    "    actor=actor,\n",
    ")"
   ]
  },
  {
   "cell_type": "markdown",
   "metadata": {},
   "source": [
    "## List Your Custom Collections"
   ]
  },
  {
   "cell_type": "markdown",
   "metadata": {},
   "source": [
    "Use the fucntion `api.list_collections()` to list all the collections you created as Pandas dataframe"
   ]
  },
  {
   "cell_type": "code",
   "execution_count": 21,
   "metadata": {},
   "outputs": [],
   "source": [
    "# Return metadata of all customized collections as pandas dataframe\n",
    "collections_df = api.list_collections()"
   ]
  },
  {
   "cell_type": "code",
   "execution_count": 22,
   "metadata": {},
   "outputs": [
    {
     "data": {
      "text/html": [
       "<div>\n",
       "<style scoped>\n",
       "    .dataframe tbody tr th:only-of-type {\n",
       "        vertical-align: middle;\n",
       "    }\n",
       "\n",
       "    .dataframe tbody tr th {\n",
       "        vertical-align: top;\n",
       "    }\n",
       "\n",
       "    .dataframe thead th {\n",
       "        text-align: right;\n",
       "    }\n",
       "</style>\n",
       "<table border=\"1\" class=\"dataframe\">\n",
       "  <thead>\n",
       "    <tr style=\"text-align: right;\">\n",
       "      <th></th>\n",
       "      <th>istrainingvideoenabled</th>\n",
       "      <th>isConsentRequired</th>\n",
       "      <th>program_name</th>\n",
       "      <th>created_date</th>\n",
       "      <th>consent_overlay_text</th>\n",
       "      <th>name</th>\n",
       "      <th>collection_description</th>\n",
       "      <th>activity_short_names</th>\n",
       "      <th>collection_id</th>\n",
       "      <th>isconsentrequired</th>\n",
       "      <th>...</th>\n",
       "      <th>project_name</th>\n",
       "      <th>training_videos_low</th>\n",
       "      <th>training_videos</th>\n",
       "      <th>isTrainingVideoEnabled</th>\n",
       "      <th>default_object</th>\n",
       "      <th>objects_list</th>\n",
       "      <th>variant</th>\n",
       "      <th>id</th>\n",
       "      <th>creator_cognito_username</th>\n",
       "      <th>updated_date</th>\n",
       "    </tr>\n",
       "  </thead>\n",
       "  <tbody>\n",
       "    <tr>\n",
       "      <th>0</th>\n",
       "      <td>False</td>\n",
       "      <td>True</td>\n",
       "      <td>3302cc32-0055-4ce5-ade1-0ad73c86f162</td>\n",
       "      <td>2021-04-30T11:59:06.652909-0400</td>\n",
       "      <td>Please select the record button, say \"I consen...</td>\n",
       "      <td>Thank you</td>\n",
       "      <td>ASL for asking some if the person needs help. ...</td>\n",
       "      <td>Thank you,Very much</td>\n",
       "      <td>babe5276-af68-477e-b47c-204511cb2d80</td>\n",
       "      <td>True</td>\n",
       "      <td>...</td>\n",
       "      <td>ARSL_American Sign Language - Purchasing Demo</td>\n",
       "      <td>[]</td>\n",
       "      <td>[]</td>\n",
       "      <td>False</td>\n",
       "      <td>Person</td>\n",
       "      <td>Person,Hands</td>\n",
       "      <td></td>\n",
       "      <td>3302cc32-0055-4ce5-ade1-0ad73c86f162_ARSL_Amer...</td>\n",
       "      <td>3302cc32-0055-4ce5-ade1-0ad73c86f162</td>\n",
       "      <td>2021-04-30T11:59:06.652982-0400</td>\n",
       "    </tr>\n",
       "    <tr>\n",
       "      <th>1</th>\n",
       "      <td>False</td>\n",
       "      <td>True</td>\n",
       "      <td>3302cc32-0055-4ce5-ade1-0ad73c86f162</td>\n",
       "      <td>2021-04-30T11:59:16.479972-0400</td>\n",
       "      <td>Please select the record button, say \"I consen...</td>\n",
       "      <td>Thank you</td>\n",
       "      <td>ASL for asking some if the person needs help. ...</td>\n",
       "      <td>Thank you,Very much</td>\n",
       "      <td>45c52c73-732a-4961-b2c4-cc0824bc9f59</td>\n",
       "      <td>True</td>\n",
       "      <td>...</td>\n",
       "      <td>ARSL_American Sign Language - Purchasing</td>\n",
       "      <td>[]</td>\n",
       "      <td>[]</td>\n",
       "      <td>False</td>\n",
       "      <td>Person</td>\n",
       "      <td>Person,Hands</td>\n",
       "      <td></td>\n",
       "      <td>3302cc32-0055-4ce5-ade1-0ad73c86f162_ARSL_Amer...</td>\n",
       "      <td>3302cc32-0055-4ce5-ade1-0ad73c86f162</td>\n",
       "      <td>2021-04-30T11:59:16.480048-0400</td>\n",
       "    </tr>\n",
       "  </tbody>\n",
       "</table>\n",
       "<p>2 rows × 22 columns</p>\n",
       "</div>"
      ],
      "text/plain": [
       "   istrainingvideoenabled  isConsentRequired  \\\n",
       "0                   False               True   \n",
       "1                   False               True   \n",
       "\n",
       "                           program_name                     created_date  \\\n",
       "0  3302cc32-0055-4ce5-ade1-0ad73c86f162  2021-04-30T11:59:06.652909-0400   \n",
       "1  3302cc32-0055-4ce5-ade1-0ad73c86f162  2021-04-30T11:59:16.479972-0400   \n",
       "\n",
       "                                consent_overlay_text       name  \\\n",
       "0  Please select the record button, say \"I consen...  Thank you   \n",
       "1  Please select the record button, say \"I consen...  Thank you   \n",
       "\n",
       "                              collection_description activity_short_names  \\\n",
       "0  ASL for asking some if the person needs help. ...  Thank you,Very much   \n",
       "1  ASL for asking some if the person needs help. ...  Thank you,Very much   \n",
       "\n",
       "                          collection_id  isconsentrequired  ...  \\\n",
       "0  babe5276-af68-477e-b47c-204511cb2d80               True  ...   \n",
       "1  45c52c73-732a-4961-b2c4-cc0824bc9f59               True  ...   \n",
       "\n",
       "                                    project_name  training_videos_low  \\\n",
       "0  ARSL_American Sign Language - Purchasing Demo                   []   \n",
       "1       ARSL_American Sign Language - Purchasing                   []   \n",
       "\n",
       "  training_videos isTrainingVideoEnabled default_object  objects_list variant  \\\n",
       "0              []                  False         Person  Person,Hands           \n",
       "1              []                  False         Person  Person,Hands           \n",
       "\n",
       "                                                  id  \\\n",
       "0  3302cc32-0055-4ce5-ade1-0ad73c86f162_ARSL_Amer...   \n",
       "1  3302cc32-0055-4ce5-ade1-0ad73c86f162_ARSL_Amer...   \n",
       "\n",
       "               creator_cognito_username                     updated_date  \n",
       "0  3302cc32-0055-4ce5-ade1-0ad73c86f162  2021-04-30T11:59:06.652982-0400  \n",
       "1  3302cc32-0055-4ce5-ade1-0ad73c86f162  2021-04-30T11:59:16.480048-0400  \n",
       "\n",
       "[2 rows x 22 columns]"
      ]
     },
     "execution_count": 22,
     "metadata": {},
     "output_type": "execute_result"
    }
   ],
   "source": [
    "collections_df"
   ]
  },
  {
   "cell_type": "markdown",
   "metadata": {},
   "source": [
    "## Delete Collection"
   ]
  },
  {
   "cell_type": "markdown",
   "metadata": {},
   "source": [
    "Use the fucntion `api.delete_collection()` to delete a specific collection you created\n"
   ]
  },
  {
   "cell_type": "code",
   "execution_count": 23,
   "metadata": {},
   "outputs": [
    {
     "data": {
      "text/plain": [
       "'Unassigned and deleted collection id: babe5276-af68-477e-b47c-204511cb2d80 successfully'"
      ]
     },
     "execution_count": 23,
     "metadata": {},
     "output_type": "execute_result"
    }
   ],
   "source": [
    "# Supplied a collection id to be deteled\n",
    "collectionid = \"babe5276-af68-477e-b47c-204511cb2d80\"\n",
    "\n",
    "# Delete the selected collection\n",
    "api.delete_collection(collectionid=collectionid)\n"
   ]
  },
  {
   "cell_type": "markdown",
   "metadata": {},
   "source": [
    "## Download and view your videos"
   ]
  },
  {
   "cell_type": "markdown",
   "metadata": {},
   "source": [
    "The default program_id for all the collector users is `Practice`. And each collector user will have their own program_id that is the same as their *collector id*. You can retrieve your  *collector id* with `api.cognito_username`\n",
    "\n",
    "\n",
    "Use the fucntion `api.get_project()` to retrieve your project client with a given program id. And use the project client to retrieve your videos.\n",
    "\n"
   ]
  },
  {
   "cell_type": "code",
   "execution_count": null,
   "metadata": {},
   "outputs": [],
   "source": [
    "Use the fucntion `api.get_project()` to get your videos by prograM_id "
   ]
  },
  {
   "cell_type": "code",
   "execution_count": null,
   "metadata": {},
   "outputs": [],
   "source": [
    "project_client = api.get_project(program_id=\"Practice\", alltime=True)\n",
    "\n",
    "# Fetching Videos\n",
    "videos = project_client.videos()"
   ]
  },
  {
   "cell_type": "code",
   "execution_count": null,
   "metadata": {},
   "outputs": [],
   "source": [
    "print(len(videos))"
   ]
  },
  {
   "cell_type": "code",
   "execution_count": null,
   "metadata": {},
   "outputs": [],
   "source": [
    "# quickshow video\n",
    "videos[0].quickshow()"
   ]
  }
 ],
 "metadata": {
  "kernelspec": {
   "display_name": "Python 3",
   "language": "python",
   "name": "python3"
  },
  "language_info": {
   "codemirror_mode": {
    "name": "ipython",
    "version": 3
   },
   "file_extension": ".py",
   "mimetype": "text/x-python",
   "name": "python",
   "nbconvert_exporter": "python",
   "pygments_lexer": "ipython3",
   "version": "3.7.6"
  }
 },
 "nbformat": 4,
 "nbformat_minor": 4
}
