{
 "cells": [
  {
   "cell_type": "markdown",
   "metadata": {},
   "source": [
    "# Collector Python API Demo"
   ]
  },
  {
   "cell_type": "code",
   "execution_count": 1,
   "metadata": {},
   "outputs": [],
   "source": [
    "import pycollector\n",
    "from pycollector.project import Project\n",
    "from pycollector.backend import API"
   ]
  },
  {
   "cell_type": "markdown",
   "metadata": {},
   "source": [
    "## Login to Collector Python API"
   ]
  },
  {
   "cell_type": "code",
   "execution_count": 2,
   "metadata": {},
   "outputs": [],
   "source": [
    "username = <Collector app email>\n",
    "password = <Collector app password>\n",
    "api = API(username=username, password=password)"
   ]
  },
  {
   "cell_type": "markdown",
   "metadata": {},
   "source": [
    "## Create new collection"
   ]
  },
  {
   "cell_type": "markdown",
   "metadata": {},
   "source": [
    "Use the function `api.new_collection()` to add a new collection. This newly defined collection will also be available in the app.  Try collecting a video."
   ]
  },
  {
   "cell_type": "code",
   "execution_count": 3,
   "metadata": {
    "scrolled": true
   },
   "outputs": [
    {
     "name": "stdout",
     "output_type": "stream",
     "text": [
      "Collection 'Thank you' added successfully\n"
     ]
    }
   ],
   "source": [
    "# Sample input for adding a new collection\n",
    "collection_name = \"Thank you\"\n",
    "project_name = \"American Sign Language\"\n",
    "actor = (\"Person\",)\n",
    "collection_description = 'ASL for saying thank you.'\n",
    "activities = \"person_signing_thank_you\"\n",
    "activity_short_names = \"Thank you\"\n",
    "objects = \"Hands\"\n",
    "\n",
    "# Adding new colleciton with defined attributes\n",
    "api.new_collection(\n",
    "    name=collection_name,\n",
    "    project_name=project_name,\n",
    "    collection_description=collection_description,\n",
    "    activities=activities,\n",
    "    activity_short_names=activity_short_names,\n",
    "    objects=objects,\n",
    "    actor=actor,\n",
    ")"
   ]
  },
  {
   "cell_type": "markdown",
   "metadata": {},
   "source": [
    "## List Your Custom Collections"
   ]
  },
  {
   "cell_type": "markdown",
   "metadata": {},
   "source": [
    "Use the function `api.list_collections()` to list all the collections you created as Pandas dataframe."
   ]
  },
  {
   "cell_type": "code",
   "execution_count": 4,
   "metadata": {},
   "outputs": [],
   "source": [
    "c = api.list_collections()"
   ]
  },
  {
   "cell_type": "code",
   "execution_count": 5,
   "metadata": {},
   "outputs": [
    {
     "data": {
      "text/html": [
       "<div>\n",
       "<style scoped>\n",
       "    .dataframe tbody tr th:only-of-type {\n",
       "        vertical-align: middle;\n",
       "    }\n",
       "\n",
       "    .dataframe tbody tr th {\n",
       "        vertical-align: top;\n",
       "    }\n",
       "\n",
       "    .dataframe thead th {\n",
       "        text-align: right;\n",
       "    }\n",
       "</style>\n",
       "<table border=\"1\" class=\"dataframe\">\n",
       "  <thead>\n",
       "    <tr style=\"text-align: right;\">\n",
       "      <th></th>\n",
       "      <th>istrainingvideoenabled</th>\n",
       "      <th>isConsentRequired</th>\n",
       "      <th>program_name</th>\n",
       "      <th>created_date</th>\n",
       "      <th>consent_overlay_text</th>\n",
       "      <th>name</th>\n",
       "      <th>collection_description</th>\n",
       "      <th>activity_short_names</th>\n",
       "      <th>collection_id</th>\n",
       "      <th>isconsentrequired</th>\n",
       "      <th>...</th>\n",
       "      <th>project_name</th>\n",
       "      <th>training_videos_low</th>\n",
       "      <th>training_videos</th>\n",
       "      <th>isTrainingVideoEnabled</th>\n",
       "      <th>default_object</th>\n",
       "      <th>objects_list</th>\n",
       "      <th>variant</th>\n",
       "      <th>id</th>\n",
       "      <th>creator_cognito_username</th>\n",
       "      <th>updated_date</th>\n",
       "    </tr>\n",
       "  </thead>\n",
       "  <tbody>\n",
       "    <tr>\n",
       "      <th>0</th>\n",
       "      <td>False</td>\n",
       "      <td>True</td>\n",
       "      <td>8b772205-3300-4228-8de3-6c9f05d35e59</td>\n",
       "      <td>2021-05-13T15:58:09.771233-0400</td>\n",
       "      <td>Please select the record button, say \"I consen...</td>\n",
       "      <td>Thank you</td>\n",
       "      <td>ASL for saying thank you.</td>\n",
       "      <td>Thank you</td>\n",
       "      <td>da35fb6c-c7bc-432a-8d0e-6d33a944360c</td>\n",
       "      <td>True</td>\n",
       "      <td>...</td>\n",
       "      <td>American Sign Language</td>\n",
       "      <td>[]</td>\n",
       "      <td>[]</td>\n",
       "      <td>False</td>\n",
       "      <td>Person</td>\n",
       "      <td>Person,Hands</td>\n",
       "      <td></td>\n",
       "      <td>8b772205-3300-4228-8de3-6c9f05d35e59_American ...</td>\n",
       "      <td>8b772205-3300-4228-8de3-6c9f05d35e59</td>\n",
       "      <td>2021-05-13T15:58:09.771310-0400</td>\n",
       "    </tr>\n",
       "  </tbody>\n",
       "</table>\n",
       "<p>1 rows × 22 columns</p>\n",
       "</div>"
      ],
      "text/plain": [
       "   istrainingvideoenabled  isConsentRequired  \\\n",
       "0                   False               True   \n",
       "\n",
       "                           program_name                     created_date  \\\n",
       "0  8b772205-3300-4228-8de3-6c9f05d35e59  2021-05-13T15:58:09.771233-0400   \n",
       "\n",
       "                                consent_overlay_text       name  \\\n",
       "0  Please select the record button, say \"I consen...  Thank you   \n",
       "\n",
       "      collection_description activity_short_names  \\\n",
       "0  ASL for saying thank you.            Thank you   \n",
       "\n",
       "                          collection_id  isconsentrequired  ...  \\\n",
       "0  da35fb6c-c7bc-432a-8d0e-6d33a944360c               True  ...   \n",
       "\n",
       "             project_name  training_videos_low training_videos  \\\n",
       "0  American Sign Language                   []              []   \n",
       "\n",
       "  isTrainingVideoEnabled default_object  objects_list variant  \\\n",
       "0                  False         Person  Person,Hands           \n",
       "\n",
       "                                                  id  \\\n",
       "0  8b772205-3300-4228-8de3-6c9f05d35e59_American ...   \n",
       "\n",
       "               creator_cognito_username                     updated_date  \n",
       "0  8b772205-3300-4228-8de3-6c9f05d35e59  2021-05-13T15:58:09.771310-0400  \n",
       "\n",
       "[1 rows x 22 columns]"
      ]
     },
     "execution_count": 5,
     "metadata": {},
     "output_type": "execute_result"
    }
   ],
   "source": [
    "print(c)"
   ]
  },
  {
   "cell_type": "markdown",
   "metadata": {},
   "source": [
    "## Delete Collection"
   ]
  },
  {
   "cell_type": "markdown",
   "metadata": {},
   "source": [
    "Use the function `api.delete_collection()` to delete a specific collection you created."
   ]
  },
  {
   "cell_type": "code",
   "execution_count": 20,
   "metadata": {},
   "outputs": [
    {
     "ename": "Exception",
     "evalue": "\nException : failed to invoke lambda function to delete collection.\nError : 'body'\n",
     "output_type": "error",
     "traceback": [
      "\u001b[0;31m---------------------------------------------------------------------------\u001b[0m",
      "\u001b[0;31mKeyError\u001b[0m                                  Traceback (most recent call last)",
      "\u001b[0;32m~/dev/collector/pycollector/backend.py\u001b[0m in \u001b[0;36mdelete_collection\u001b[0;34m(self, collectionid)\u001b[0m\n\u001b[1;32m    171\u001b[0m \u001b[0;34m\u001b[0m\u001b[0m\n\u001b[0;32m--> 172\u001b[0;31m             \u001b[0mprint\u001b[0m\u001b[0;34m(\u001b[0m\u001b[0mdata_dict\u001b[0m\u001b[0;34m[\u001b[0m\u001b[0;34m\"body\"\u001b[0m\u001b[0;34m]\u001b[0m\u001b[0;34m[\u001b[0m\u001b[0;34m\"message\"\u001b[0m\u001b[0;34m]\u001b[0m\u001b[0;34m)\u001b[0m\u001b[0;34m\u001b[0m\u001b[0;34m\u001b[0m\u001b[0m\n\u001b[0m\u001b[1;32m    173\u001b[0m \u001b[0;34m\u001b[0m\u001b[0m\n",
      "\u001b[0;31mKeyError\u001b[0m: 'body'",
      "\nDuring handling of the above exception, another exception occurred:\n",
      "\u001b[0;31mException\u001b[0m                                 Traceback (most recent call last)",
      "\u001b[0;32m<ipython-input-20-b49e4e075e24>\u001b[0m in \u001b[0;36m<module>\u001b[0;34m\u001b[0m\n\u001b[0;32m----> 1\u001b[0;31m \u001b[0mapi\u001b[0m\u001b[0;34m.\u001b[0m\u001b[0mdelete_collection\u001b[0m\u001b[0;34m(\u001b[0m\u001b[0mcollectionid\u001b[0m\u001b[0;34m=\u001b[0m\u001b[0mdf\u001b[0m\u001b[0;34m[\u001b[0m\u001b[0;34m'collection_id'\u001b[0m\u001b[0;34m]\u001b[0m\u001b[0;34m[\u001b[0m\u001b[0;36m0\u001b[0m\u001b[0;34m]\u001b[0m\u001b[0;34m)\u001b[0m\u001b[0;34m\u001b[0m\u001b[0;34m\u001b[0m\u001b[0m\n\u001b[0m",
      "\u001b[0;32m~/dev/collector/pycollector/backend.py\u001b[0m in \u001b[0;36mdelete_collection\u001b[0;34m(self, collectionid)\u001b[0m\n\u001b[1;32m    175\u001b[0m             \u001b[0mcustom_error\u001b[0m \u001b[0;34m=\u001b[0m \u001b[0;34m\"\\nException : failed to invoke lambda function to delete collection.\\n\"\u001b[0m\u001b[0;34m\u001b[0m\u001b[0;34m\u001b[0m\u001b[0m\n\u001b[1;32m    176\u001b[0m             \u001b[0mcustom_error\u001b[0m \u001b[0;34m+=\u001b[0m \u001b[0;34m\"Error : \"\u001b[0m \u001b[0;34m+\u001b[0m \u001b[0mstr\u001b[0m\u001b[0;34m(\u001b[0m\u001b[0me\u001b[0m\u001b[0;34m)\u001b[0m \u001b[0;34m+\u001b[0m \u001b[0;34m\"\\n\"\u001b[0m\u001b[0;34m\u001b[0m\u001b[0;34m\u001b[0m\u001b[0m\n\u001b[0;32m--> 177\u001b[0;31m             \u001b[0;32mraise\u001b[0m \u001b[0mException\u001b[0m\u001b[0;34m(\u001b[0m\u001b[0mcustom_error\u001b[0m\u001b[0;34m)\u001b[0m\u001b[0;34m\u001b[0m\u001b[0;34m\u001b[0m\u001b[0m\n\u001b[0m",
      "\u001b[0;31mException\u001b[0m: \nException : failed to invoke lambda function to delete collection.\nError : 'body'\n"
     ]
    }
   ],
   "source": [
    "api.delete_collection(collectionid=c['collection_id'][0])"
   ]
  },
  {
   "cell_type": "markdown",
   "metadata": {},
   "source": [
    "## Download and view your videos"
   ]
  },
  {
   "cell_type": "markdown",
   "metadata": {},
   "source": [
    "The default program_id for all the collector users is `Practice`. And each collector user will have their own program_id that is the same as their *collector id*. You can retrieve your  *collector id* with `api.cognito_username`\n",
    "\n",
    "\n",
    "Use the function `api.get_project()` to retrieve your project client with a given program id. And use the project client to retrieve your videos.\n",
    "\n"
   ]
  },
  {
   "cell_type": "code",
   "execution_count": 14,
   "metadata": {},
   "outputs": [
    {
     "name": "stdout",
     "output_type": "stream",
     "text": [
      "[pycollector.project]:  Returned 2 videos\n",
      "[pycollector.video]:  Fetching \"s3://visym-data-lake140008-visymcprod.s3.amazonaws.com/uploads/Programs/Practice/Getting Started/53f400de-46ae-40c2-98df-60952b3f21946411219109057385724.json\"\n",
      "[vipy.downloader.s3]: Downloading \"s3://visym-data-lake140008-visymcprod.s3.amazonaws.com/uploads/Programs/Practice/Getting Started/53f400de-46ae-40c2-98df-60952b3f21946411219109057385724.json\" -> \"/Users/jebyrne/.vipy/53f400de-46ae-40c2-98df-60952b3f21946411219109057385724.json\"\n",
      "[vipy.downloader.s3]: Downloading \"s3://visym-data-lake140008-visymcprod.s3.amazonaws.com/uploads/Programs/Practice/Getting Started/53f400de-46ae-40c2-98df-60952b3f21946411219109057385724.mp4\" -> \"/Users/jebyrne/.vipy/53f400de-46ae-40c2-98df-60952b3f21946411219109057385724.mp4\"\n",
      "[pycollector.video]:  Fetching \"s3://visym-data-lake140008-visymcprod.s3.amazonaws.com/uploads/Programs/Practice/Getting Started/83322cd2-7c59-406c-86a6-23e698619e425456175993824533149.json\"\n",
      "[vipy.downloader.s3]: Downloading \"s3://visym-data-lake140008-visymcprod.s3.amazonaws.com/uploads/Programs/Practice/Getting Started/83322cd2-7c59-406c-86a6-23e698619e425456175993824533149.json\" -> \"/Users/jebyrne/.vipy/83322cd2-7c59-406c-86a6-23e698619e425456175993824533149.json\"\n",
      "[vipy.downloader.s3]: Downloading \"s3://visym-data-lake140008-visymcprod.s3.amazonaws.com/uploads/Programs/Practice/Getting Started/83322cd2-7c59-406c-86a6-23e698619e425456175993824533149.mp4\" -> \"/Users/jebyrne/.vipy/83322cd2-7c59-406c-86a6-23e698619e425456175993824533149.mp4\"\n"
     ]
    }
   ],
   "source": [
    "project_client = api.get_project(program_id=\"Practice\", alltime=True)\n",
    "videos = project_client.videos()"
   ]
  },
  {
   "cell_type": "code",
   "execution_count": 15,
   "metadata": {},
   "outputs": [
    {
     "name": "stdout",
     "output_type": "stream",
     "text": [
      "2\n"
     ]
    }
   ],
   "source": [
    "print(len(videos))"
   ]
  }
 ],
 "metadata": {
  "kernelspec": {
   "display_name": "Python 3",
   "language": "python",
   "name": "python3"
  },
  "language_info": {
   "codemirror_mode": {
    "name": "ipython",
    "version": 3
   },
   "file_extension": ".py",
   "mimetype": "text/x-python",
   "name": "python",
   "nbconvert_exporter": "python",
   "pygments_lexer": "ipython3",
   "version": "3.8.2"
  }
 },
 "nbformat": 4,
 "nbformat_minor": 4
}
