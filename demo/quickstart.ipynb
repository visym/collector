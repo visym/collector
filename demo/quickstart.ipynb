{
 "cells": [
  {
   "cell_type": "markdown",
   "metadata": {},
   "source": [
    "# Collector Python API Demo"
   ]
  },
  {
   "cell_type": "code",
   "execution_count": 2,
   "metadata": {},
   "outputs": [],
   "source": [
    "import pycollector\n",
    "from pycollector.project import Project\n",
    "from pycollector.backend import API"
   ]
  },
  {
   "cell_type": "markdown",
   "metadata": {},
   "source": [
    "## Login to Collector Python API"
   ]
  },
  {
   "cell_type": "code",
   "execution_count": 3,
   "metadata": {},
   "outputs": [
    {
     "name": "stdout",
     "output_type": "stream",
     "text": [
      "········\n"
     ]
    }
   ],
   "source": [
    "username = <Your collector app email>\n",
    "password = None\n",
    "api = API(username=username, password=password)"
   ]
  },
  {
   "cell_type": "markdown",
   "metadata": {},
   "source": [
    "## Create new collection"
   ]
  },
  {
   "cell_type": "markdown",
   "metadata": {},
   "source": [
    "Use the function `api.new_collection()` to add a new collection. This newly defined collection will also be available in the app.  Try collecting a video."
   ]
  },
  {
   "cell_type": "code",
   "execution_count": 4,
   "metadata": {
    "scrolled": true
   },
   "outputs": [
    {
     "name": "stdout",
     "output_type": "stream",
     "text": [
      "Collection 'Thank you' added successfully\n"
     ]
    }
   ],
   "source": [
    "# Sample input for adding a new collection\n",
    "collection_name = \"Thank you\"\n",
    "project_name = \"American Sign Language\"\n",
    "actor = (\"Person\",)\n",
    "collection_description = 'ASL for saying thank you.'\n",
    "activities = \"person_signing_thank_you\"\n",
    "activity_short_names = \"Thank you\"\n",
    "objects = \"Hands\"\n",
    "\n",
    "# Adding new colleciton with defined attributes\n",
    "api.new_collection(\n",
    "    name=collection_name,\n",
    "    project_name=project_name,\n",
    "    collection_description=collection_description,\n",
    "    activities=activities,\n",
    "    activity_short_names=activity_short_names,\n",
    "    objects=objects,\n",
    "    actor=actor,\n",
    ")"
   ]
  },
  {
   "cell_type": "markdown",
   "metadata": {},
   "source": [
    "## Record and annotate a video using your new collection"
   ]
  },
  {
   "cell_type": "markdown",
   "metadata": {},
   "source": [
    "Try to record a new video in app by logging into the collector mobile app and selecting the new project you created."
   ]
  },
  {
   "cell_type": "code",
   "execution_count": 13,
   "metadata": {},
   "outputs": [
    {
     "name": "stdout",
     "output_type": "stream",
     "text": [
      "[pycollector.project]:  Returned 2 videos\n",
      "[pycollector.video]:  Fetching \"s3://visym-data-lake140008-visymcprod.s3.amazonaws.com/uploads/Programs/8b772205-3300-4228-8de3-6c9f05d35e59/American Sign Language/8EAB07FB-EF02-4F25-90D2-BD956DA48C94.json\"\n",
      "[vipy.downloader.s3]: Downloading \"s3://visym-data-lake140008-visymcprod.s3.amazonaws.com/uploads/Programs/8b772205-3300-4228-8de3-6c9f05d35e59/American Sign Language/8EAB07FB-EF02-4F25-90D2-BD956DA48C94.json\" -> \"/Users/jebyrne/.vipy/8EAB07FB-EF02-4F25-90D2-BD956DA48C94.json\"\n",
      "[vipy.downloader.s3]: Downloading \"s3://visym-data-lake140008-visymcprod.s3.amazonaws.com/uploads/Programs/8b772205-3300-4228-8de3-6c9f05d35e59/American Sign Language/8EAB07FB-EF02-4F25-90D2-BD956DA48C94.mp4\" -> \"/Users/jebyrne/.vipy/8EAB07FB-EF02-4F25-90D2-BD956DA48C94.mp4\"\n"
     ]
    }
   ],
   "source": [
    "c = api.list_collections()\n",
    "project_client = api.get_project(program_id=c['program_name'][0], alltime=True)\n",
    "videos = project_client.videos()"
   ]
  },
  {
   "cell_type": "markdown",
   "metadata": {},
   "source": [
    "## Delete Collection"
   ]
  },
  {
   "cell_type": "markdown",
   "metadata": {},
   "source": [
    "Use the function `api.delete_collection()` to delete a specific collection you created."
   ]
  },
  {
   "cell_type": "code",
   "execution_count": 18,
   "metadata": {},
   "outputs": [
    {
     "name": "stdout",
     "output_type": "stream",
     "text": [
      "Unassigned and deleted collection id: 2ec9159b-2272-49f8-9b06-12255997bd5e successfully\n"
     ]
    }
   ],
   "source": [
    "c = api.list_collections()\n",
    "api.delete_collection(collectionid=c['collection_id'][0])"
   ]
  }
 ],
 "metadata": {
  "kernelspec": {
   "display_name": "Python 3",
   "language": "python",
   "name": "python3"
  },
  "language_info": {
   "codemirror_mode": {
    "name": "ipython",
    "version": 3
   },
   "file_extension": ".py",
   "mimetype": "text/x-python",
   "name": "python",
   "nbconvert_exporter": "python",
   "pygments_lexer": "ipython3",
   "version": "3.8.2"
  }
 },
 "nbformat": 4,
 "nbformat_minor": 4
}
